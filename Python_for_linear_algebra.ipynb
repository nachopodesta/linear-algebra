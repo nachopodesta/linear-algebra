{
  "nbformat": 4,
  "nbformat_minor": 0,
  "metadata": {
    "colab": {
      "name": "Python for linear algebra.ipynb",
      "provenance": [],
      "authorship_tag": "ABX9TyN8Ud0RRwlofbTjUuslD/OL",
      "include_colab_link": true
    },
    "kernelspec": {
      "name": "python3",
      "display_name": "Python 3"
    },
    "language_info": {
      "name": "python"
    }
  },
  "cells": [
    {
      "cell_type": "markdown",
      "metadata": {
        "id": "view-in-github",
        "colab_type": "text"
      },
      "source": [
        "<a href=\"https://colab.research.google.com/github/nachopodesta/linear-algebra/blob/main/Python_for_linear_algebra.ipynb\" target=\"_parent\"><img src=\"https://colab.research.google.com/assets/colab-badge.svg\" alt=\"Open In Colab\"/></a>"
      ]
    },
    {
      "cell_type": "code",
      "execution_count": 5,
      "metadata": {
        "id": "T-OkfoxK8OCa"
      },
      "outputs": [],
      "source": [
        "# import module\n",
        "import numpy as np"
      ]
    },
    {
      "cell_type": "code",
      "source": [
        "numlist = [1,2,3,4,4]\n",
        "numlist"
      ],
      "metadata": {
        "colab": {
          "base_uri": "https://localhost:8080/"
        },
        "id": "QnLtiEjt8ao0",
        "outputId": "585a3ffb-64c2-4b98-be73-98cab7b55b25"
      },
      "execution_count": 2,
      "outputs": [
        {
          "output_type": "execute_result",
          "data": {
            "text/plain": [
              "[1, 2, 3, 4, 4]"
            ]
          },
          "metadata": {},
          "execution_count": 2
        }
      ]
    },
    {
      "cell_type": "code",
      "source": [
        "abs(-5)"
      ],
      "metadata": {
        "colab": {
          "base_uri": "https://localhost:8080/"
        },
        "id": "Zel4JoeV8glj",
        "outputId": "3c100620-5372-4aea-90f6-6890b08c0c02"
      },
      "execution_count": 3,
      "outputs": [
        {
          "output_type": "execute_result",
          "data": {
            "text/plain": [
              "5"
            ]
          },
          "metadata": {},
          "execution_count": 3
        }
      ]
    },
    {
      "cell_type": "code",
      "source": [
        "np.sqrt(4)"
      ],
      "metadata": {
        "colab": {
          "base_uri": "https://localhost:8080/"
        },
        "id": "S-DXIlrm8peD",
        "outputId": "701a665d-6c4a-4b0a-9d44-0f26dbfe6af4"
      },
      "execution_count": 7,
      "outputs": [
        {
          "output_type": "execute_result",
          "data": {
            "text/plain": [
              "2.0"
            ]
          },
          "metadata": {},
          "execution_count": 7
        }
      ]
    },
    {
      "cell_type": "code",
      "source": [
        "np.mean(numlist)"
      ],
      "metadata": {
        "colab": {
          "base_uri": "https://localhost:8080/"
        },
        "id": "f_5JIGc_8pg4",
        "outputId": "10f1e8d9-76e8-4f04-9842-d37caaa10ff9"
      },
      "execution_count": 8,
      "outputs": [
        {
          "output_type": "execute_result",
          "data": {
            "text/plain": [
              "2.8"
            ]
          },
          "metadata": {},
          "execution_count": 8
        }
      ]
    },
    {
      "cell_type": "code",
      "source": [
        "np.linspace(1,10,7)"
      ],
      "metadata": {
        "colab": {
          "base_uri": "https://localhost:8080/"
        },
        "id": "6BWQi8eR8pja",
        "outputId": "2ea0093b-11d4-4c0b-d601-3f6005711ebc"
      },
      "execution_count": 9,
      "outputs": [
        {
          "output_type": "execute_result",
          "data": {
            "text/plain": [
              "array([ 1. ,  2.5,  4. ,  5.5,  7. ,  8.5, 10. ])"
            ]
          },
          "metadata": {},
          "execution_count": 9
        }
      ]
    },
    {
      "cell_type": "code",
      "source": [
        "funout = np.linspace(1,10,12)\n",
        "funout + 2 "
      ],
      "metadata": {
        "colab": {
          "base_uri": "https://localhost:8080/"
        },
        "id": "xN6L4h-p8pmB",
        "outputId": "bdbb3640-f0b9-4c09-a355-2d7e88fd4f6e"
      },
      "execution_count": 12,
      "outputs": [
        {
          "output_type": "execute_result",
          "data": {
            "text/plain": [
              "array([ 3.        ,  3.81818182,  4.63636364,  5.45454545,  6.27272727,\n",
              "        7.09090909,  7.90909091,  8.72727273,  9.54545455, 10.36363636,\n",
              "       11.18181818, 12.        ])"
            ]
          },
          "metadata": {},
          "execution_count": 12
        }
      ]
    },
    {
      "cell_type": "code",
      "source": [
        "# import module\n",
        "import matplotlib.pyplot as plt\n"
      ],
      "metadata": {
        "id": "HbybEjyu_BB4"
      },
      "execution_count": 20,
      "outputs": []
    },
    {
      "cell_type": "code",
      "source": [
        "plt.plot(1,3,'ro')\n",
        "plt.show()"
      ],
      "metadata": {
        "colab": {
          "base_uri": "https://localhost:8080/",
          "height": 265
        },
        "id": "kLHnmSOU_yiK",
        "outputId": "c368afe9-423c-47ac-869e-97b81e5ea79a"
      },
      "execution_count": 24,
      "outputs": [
        {
          "output_type": "display_data",
          "data": {
            "text/plain": [
              "<Figure size 432x288 with 1 Axes>"
            ],
            "image/png": "[encoded data removed]"
          },
          "metadata": {
            "needs_background": "light"
          }
        }
      ]
    },
    {
      "cell_type": "code",
      "source": [
        "x = np.arange(-9,10)\n",
        "print(x)\n",
        "\n",
        "y = x**2\n",
        "print(y)"
      ],
      "metadata": {
        "colab": {
          "base_uri": "https://localhost:8080/"
        },
        "id": "B-Taufh9_yk1",
        "outputId": "9ec42a25-d1c7-425b-dc4b-a07c97e5ddf0"
      },
      "execution_count": 27,
      "outputs": [
        {
          "output_type": "stream",
          "name": "stdout",
          "text": [
            "[-9 -8 -7 -6 -5 -4 -3 -2 -1  0  1  2  3  4  5  6  7  8  9]\n",
            "[81 64 49 36 25 16  9  4  1  0  1  4  9 16 25 36 49 64 81]\n"
          ]
        }
      ]
    },
    {
      "cell_type": "code",
      "source": [
        "plt.plot(x,y,'r')\n",
        "plt.plot(x,y/2,'gs')\n",
        "\n",
        "plt.show()"
      ],
      "metadata": {
        "colab": {
          "base_uri": "https://localhost:8080/",
          "height": 265
        },
        "id": "LhK5gkaP_yna",
        "outputId": "1fa9d691-7dee-4038-8e14-5a2e21517f16"
      },
      "execution_count": 31,
      "outputs": [
        {
          "output_type": "display_data",
          "data": {
            "text/plain": [
              "<Figure size 432x288 with 1 Axes>"
            ],
            "image/png": "[encoded data removed]"
          },
          "metadata": {
            "needs_background": "light"
          }
        }
      ]
    },
    {
      "cell_type": "code",
      "source": [
        "plt.plot([0,3],[-1,1],label='first line')\n",
        "plt.plot([-2,0],[-4,1],label='second line')\n",
        "plt.legend()\n",
        "plt.show()"
      ],
      "metadata": {
        "colab": {
          "base_uri": "https://localhost:8080/",
          "height": 265
        },
        "id": "ImkDBSDp_ypw",
        "outputId": "ef55f20c-69fd-4541-eb54-02a584bd0d65"
      },
      "execution_count": 34,
      "outputs": [
        {
          "output_type": "display_data",
          "data": {
            "text/plain": [
              "<Figure size 432x288 with 1 Axes>"
            ],
            "image/png": "[encoded data removed]"
          },
          "metadata": {
            "needs_background": "light"
          }
        }
      ]
    },
    {
      "cell_type": "code",
      "source": [
        "M = np.random.randint(0,10, size=(4,5))\n",
        "M"
      ],
      "metadata": {
        "colab": {
          "base_uri": "https://localhost:8080/"
        },
        "id": "6Hbuo4u2_ysW",
        "outputId": "c0d05fb7-a222-4c2e-ac42-6817bddf6172"
      },
      "execution_count": 37,
      "outputs": [
        {
          "output_type": "execute_result",
          "data": {
            "text/plain": [
              "array([[5, 4, 2, 3, 6],\n",
              "       [4, 8, 5, 1, 1],\n",
              "       [5, 4, 8, 2, 3],\n",
              "       [3, 0, 6, 2, 7]])"
            ]
          },
          "metadata": {},
          "execution_count": 37
        }
      ]
    },
    {
      "cell_type": "code",
      "source": [
        "plt.imshow(M)\n",
        "plt.show()"
      ],
      "metadata": {
        "colab": {
          "base_uri": "https://localhost:8080/",
          "height": 269
        },
        "id": "EhaPBIzk_yvQ",
        "outputId": "49f0c467-8d04-407a-a056-8e37ba549f3e"
      },
      "execution_count": 39,
      "outputs": [
        {
          "output_type": "display_data",
          "data": {
            "text/plain": [
              "<Figure size 432x288 with 1 Axes>"
            ],
            "image/png": "[encoded data removed]"
          },
          "metadata": {
            "needs_background": "light"
          }
        }
      ]
    },
    {
      "cell_type": "markdown",
      "source": [
        "### Vectors and scalar multiplication"
      ],
      "metadata": {
        "id": "graUHZP2FcYE"
      }
    },
    {
      "cell_type": "code",
      "source": [
        "vec = [3,4,5,2]\n",
        "s = 2\n",
        "\n",
        "vec*s"
      ],
      "metadata": {
        "colab": {
          "base_uri": "https://localhost:8080/"
        },
        "id": "j3XbqqOEFRG5",
        "outputId": "18fa0593-d342-42a0-9a42-3a9db37a3b20"
      },
      "execution_count": 40,
      "outputs": [
        {
          "output_type": "execute_result",
          "data": {
            "text/plain": [
              "[3, 4, 5, 2, 3, 4, 5, 2]"
            ]
          },
          "metadata": {},
          "execution_count": 40
        }
      ]
    },
    {
      "cell_type": "code",
      "source": [
        "vec = np.array([3,4,5,2])\n",
        "s = 3\n",
        "\n",
        "vec*s"
      ],
      "metadata": {
        "colab": {
          "base_uri": "https://localhost:8080/"
        },
        "id": "a6Q8COWdFZUs",
        "outputId": "365ff30d-7517-41fb-fc27-80403222cec4"
      },
      "execution_count": 41,
      "outputs": [
        {
          "output_type": "execute_result",
          "data": {
            "text/plain": [
              "array([ 9, 12, 15,  6])"
            ]
          },
          "metadata": {},
          "execution_count": 41
        }
      ]
    },
    {
      "cell_type": "code",
      "source": [
        "vec2d = np.array([1,2])\n",
        "s1 = 2\n",
        "s2 = .5\n",
        "s3 = -1\n",
        "\n",
        "vec2d"
      ],
      "metadata": {
        "colab": {
          "base_uri": "https://localhost:8080/"
        },
        "id": "0rgOkt5wFZZR",
        "outputId": "99a27f05-eb01-4f25-ffe2-c16c4af31b90"
      },
      "execution_count": 49,
      "outputs": [
        {
          "output_type": "execute_result",
          "data": {
            "text/plain": [
              "array([1, 2])"
            ]
          },
          "metadata": {},
          "execution_count": 49
        }
      ]
    },
    {
      "cell_type": "code",
      "source": [
        "plt.plot([0,vec2d[0]],[0,vec2d[1]],'bs-') # b for blu s for square"
      ],
      "metadata": {
        "colab": {
          "base_uri": "https://localhost:8080/",
          "height": 282
        },
        "id": "5n7oqLacFZcM",
        "outputId": "93ffb0af-0101-46c9-9794-3bba75d939df"
      },
      "execution_count": 46,
      "outputs": [
        {
          "output_type": "execute_result",
          "data": {
            "text/plain": [
              "[<matplotlib.lines.Line2D at 0x7f055bd2b350>]"
            ]
          },
          "metadata": {},
          "execution_count": 46
        },
        {
          "output_type": "display_data",
          "data": {
            "text/plain": [
              "<Figure size 432x288 with 1 Axes>"
            ],
            "image/png": "[encoded data removed]"
          },
          "metadata": {
            "needs_background": "light"
          }
        }
      ]
    },
    {
      "cell_type": "code",
      "source": [
        "plt.plot([0,vec2d[0]],[0,vec2d[1]], 'bs-', label='v')\n",
        "plt.plot([0,s1*vec2d[0]],[0,s1*vec2d[1]],'ro-',label='v*s1')\n",
        "plt.plot([0,s2*vec2d[0]],[0,s2*vec2d[1]],'kp-',label='v*s2')\n",
        "plt.plot([0,s3*vec2d[0]],[0,s3*vec2d[1]],'g*-',label='v*s3')\n",
        "\n",
        "plt.axis('square')\n",
        "plt.xlim([-4,4])\n",
        "plt.ylim([-4,4])\n",
        "plt.grid()\n",
        "plt.legend()\n",
        "plt.show()\n"
      ],
      "metadata": {
        "colab": {
          "base_uri": "https://localhost:8080/",
          "height": 269
        },
        "id": "h5PSjTy8FZer",
        "outputId": "8210330f-fa5f-4f4b-d897-20fb0817f040"
      },
      "execution_count": 50,
      "outputs": [
        {
          "output_type": "display_data",
          "data": {
            "text/plain": [
              "<Figure size 432x288 with 1 Axes>"
            ],
            "image/png": "[encoded data removed]"
          },
          "metadata": {
            "needs_background": "light"
          }
        }
      ]
    },
    {
      "cell_type": "markdown",
      "source": [
        "## The vector dot product"
      ],
      "metadata": {
        "id": "QhwocYxOUcX9"
      }
    },
    {
      "cell_type": "code",
      "source": [
        "v1 = np.array([5,6,2])\n",
        "v2 = np.array([3,0,5])\n",
        "\n",
        "np.dot(v1,v2)"
      ],
      "metadata": {
        "colab": {
          "base_uri": "https://localhost:8080/"
        },
        "id": "5shgshL-Ufis",
        "outputId": "5cbcf9da-1638-4bd0-9a4e-74bc3917cdb0"
      },
      "execution_count": 51,
      "outputs": [
        {
          "output_type": "execute_result",
          "data": {
            "text/plain": [
              "25"
            ]
          },
          "metadata": {},
          "execution_count": 51
        }
      ]
    },
    {
      "cell_type": "code",
      "source": [
        "v3 = np.array([-4,3,1])\n",
        "np.dot(v2,v3)"
      ],
      "metadata": {
        "colab": {
          "base_uri": "https://localhost:8080/"
        },
        "id": "nPKNHq5jFZhV",
        "outputId": "0130baad-1236-42fd-9d51-c458776166da"
      },
      "execution_count": 52,
      "outputs": [
        {
          "output_type": "execute_result",
          "data": {
            "text/plain": [
              "-7"
            ]
          },
          "metadata": {},
          "execution_count": 52
        }
      ]
    },
    {
      "cell_type": "code",
      "source": [
        "v3 = np.array([-4,3,1])\n",
        "v5 = np.array([2,3,-1])\n",
        "np.dot(v3,v5)\n",
        "\n",
        "#vector v3 is orghogonal to vector v5"
      ],
      "metadata": {
        "colab": {
          "base_uri": "https://localhost:8080/"
        },
        "id": "kznkBJWJFZkD",
        "outputId": "5ca15c66-742f-44b6-d7a8-e84da1d8ec3b"
      },
      "execution_count": 54,
      "outputs": [
        {
          "output_type": "execute_result",
          "data": {
            "text/plain": [
              "0"
            ]
          },
          "metadata": {},
          "execution_count": 54
        }
      ]
    },
    {
      "cell_type": "markdown",
      "source": [
        "#Matrix"
      ],
      "metadata": {
        "id": "ev2aohxnVkbg"
      }
    },
    {
      "cell_type": "code",
      "source": [
        "#4x3 // 4 rows, 3 columns"
      ],
      "metadata": {
        "id": "ON32V8b3FZmi"
      },
      "execution_count": null,
      "outputs": []
    },
    {
      "cell_type": "code",
      "source": [
        "np.eye(3)"
      ],
      "metadata": {
        "colab": {
          "base_uri": "https://localhost:8080/"
        },
        "id": "AiLpWdh6FZo9",
        "outputId": "c12a1778-bbf1-4295-8a20-34ed4eec2d1f"
      },
      "execution_count": 55,
      "outputs": [
        {
          "output_type": "execute_result",
          "data": {
            "text/plain": [
              "array([[1., 0., 0.],\n",
              "       [0., 1., 0.],\n",
              "       [0., 0., 1.]])"
            ]
          },
          "metadata": {},
          "execution_count": 55
        }
      ]
    },
    {
      "cell_type": "code",
      "source": [
        "np.zeros((3,4))"
      ],
      "metadata": {
        "colab": {
          "base_uri": "https://localhost:8080/"
        },
        "id": "IZ-XhvLwV2qX",
        "outputId": "87620562-8076-4963-f21a-79495b4bede5"
      },
      "execution_count": 56,
      "outputs": [
        {
          "output_type": "execute_result",
          "data": {
            "text/plain": [
              "array([[0., 0., 0., 0.],\n",
              "       [0., 0., 0., 0.],\n",
              "       [0., 0., 0., 0.]])"
            ]
          },
          "metadata": {},
          "execution_count": 56
        }
      ]
    },
    {
      "cell_type": "code",
      "source": [
        "np.full((5,2),7)"
      ],
      "metadata": {
        "colab": {
          "base_uri": "https://localhost:8080/"
        },
        "id": "JZXDQObxV2s9",
        "outputId": "746be472-7b80-4ae9-f663-7e648875f7a4"
      },
      "execution_count": 57,
      "outputs": [
        {
          "output_type": "execute_result",
          "data": {
            "text/plain": [
              "array([[7, 7],\n",
              "       [7, 7],\n",
              "       [7, 7],\n",
              "       [7, 7],\n",
              "       [7, 7]])"
            ]
          },
          "metadata": {},
          "execution_count": 57
        }
      ]
    },
    {
      "cell_type": "code",
      "source": [
        "m = np.array([[1,2,3],\n",
        "              [4,5,6],\n",
        "              [7,8,9]])\n",
        "print(m)"
      ],
      "metadata": {
        "colab": {
          "base_uri": "https://localhost:8080/"
        },
        "id": "ew3-gfffV2vk",
        "outputId": "ec4905d3-eb3f-4654-ca6d-e453e9155e4e"
      },
      "execution_count": 59,
      "outputs": [
        {
          "output_type": "stream",
          "name": "stdout",
          "text": [
            "[[1 2 3]\n",
            " [4 5 6]\n",
            " [7 8 9]]\n"
          ]
        }
      ]
    },
    {
      "cell_type": "code",
      "source": [
        "n = np.array([2,3])\n",
        "n"
      ],
      "metadata": {
        "colab": {
          "base_uri": "https://localhost:8080/"
        },
        "id": "Y5SlfLZTV2x8",
        "outputId": "02362ab4-d0be-4ed2-ac47-f6d019f45672"
      },
      "execution_count": 63,
      "outputs": [
        {
          "output_type": "execute_result",
          "data": {
            "text/plain": [
              "array([2, 3])"
            ]
          },
          "metadata": {},
          "execution_count": 63
        }
      ]
    },
    {
      "cell_type": "markdown",
      "source": [
        "## Transposing a vector"
      ],
      "metadata": {
        "id": "gjbByq_3Ymgu"
      }
    },
    {
      "cell_type": "code",
      "source": [
        "totrans = np.array([[1,0,2,5,-2],[5,6,8,3,0]])\n",
        "totrans\n"
      ],
      "metadata": {
        "colab": {
          "base_uri": "https://localhost:8080/"
        },
        "id": "mvuMpUz9V20i",
        "outputId": "5d643094-f816-49f9-fb3d-e7dff73a37ad"
      },
      "execution_count": 67,
      "outputs": [
        {
          "output_type": "execute_result",
          "data": {
            "text/plain": [
              "array([[ 1,  0,  2,  5, -2],\n",
              "       [ 5,  6,  8,  3,  0]])"
            ]
          },
          "metadata": {},
          "execution_count": 67
        }
      ]
    },
    {
      "cell_type": "code",
      "source": [
        "totrans.T"
      ],
      "metadata": {
        "colab": {
          "base_uri": "https://localhost:8080/"
        },
        "id": "sOEYgVJOY555",
        "outputId": "bd62b723-0ece-4566-9cb7-a8358a5779dc"
      },
      "execution_count": 68,
      "outputs": [
        {
          "output_type": "execute_result",
          "data": {
            "text/plain": [
              "array([[ 1,  5],\n",
              "       [ 0,  6],\n",
              "       [ 2,  8],\n",
              "       [ 5,  3],\n",
              "       [-2,  0]])"
            ]
          },
          "metadata": {},
          "execution_count": 68
        }
      ]
    },
    {
      "cell_type": "code",
      "source": [
        "v1 = np.array([2,3,-1],ndmin=2)\n",
        "print(v1)\n",
        "print(' ')\n",
        "print(v1.T)"
      ],
      "metadata": {
        "colab": {
          "base_uri": "https://localhost:8080/"
        },
        "id": "0-6tsw-uY_Om",
        "outputId": "cb78ed6b-e8d1-4fa9-d89c-68e8385c59bc"
      },
      "execution_count": 71,
      "outputs": [
        {
          "output_type": "stream",
          "name": "stdout",
          "text": [
            "[[ 2  3 -1]]\n",
            " \n",
            "[[ 2]\n",
            " [ 3]\n",
            " [-1]]\n"
          ]
        }
      ]
    },
    {
      "cell_type": "code",
      "source": [
        "nn = np.round(10*np.random.randn(3,3))\n",
        "print(nn)\n",
        "\n",
        "print(' ')\n",
        "print(nn.T)"
      ],
      "metadata": {
        "colab": {
          "base_uri": "https://localhost:8080/"
        },
        "id": "s5QYR8EoY_RZ",
        "outputId": "278dfd2f-6a6d-449e-99c8-4932492d049b"
      },
      "execution_count": 76,
      "outputs": [
        {
          "output_type": "stream",
          "name": "stdout",
          "text": [
            "[[ -3.  11.  -5.]\n",
            " [ -1. -10.  -5.]\n",
            " [ -5.  -2.   7.]]\n",
            " \n",
            "[[ -3.  -1.  -5.]\n",
            " [ 11. -10.  -2.]\n",
            " [ -5.  -5.   7.]]\n"
          ]
        }
      ]
    },
    {
      "cell_type": "markdown",
      "source": [
        "## Matrix multiplication"
      ],
      "metadata": {
        "id": "DmxZm9_rb-9a"
      }
    },
    {
      "cell_type": "code",
      "source": [
        "# A    B\n",
        "#5x2  2x5"
      ],
      "metadata": {
        "id": "xNyoZbtWY_Tx"
      },
      "execution_count": null,
      "outputs": []
    },
    {
      "cell_type": "code",
      "source": [
        "m1 = np.random.randn(4,5) #4x5\n",
        "m2 = np.random.randn(4,5)\n",
        "\n",
        "print(np.matmul(m1,m2.T))\n",
        "print(' ')\n",
        "print(m1@m2.T)\n",
        "print(' ')\n",
        "print(np.matmul(m1,m2.T) - m1@m2.T)\n",
        "\n"
      ],
      "metadata": {
        "colab": {
          "base_uri": "https://localhost:8080/"
        },
        "id": "yJDBVjl4Y_Wp",
        "outputId": "f122dab5-1cc2-4072-fd10-83b00520e586"
      },
      "execution_count": 84,
      "outputs": [
        {
          "output_type": "stream",
          "name": "stdout",
          "text": [
            "[[-1.1654231  -2.63529648 -2.14334887  2.49949696]\n",
            " [-1.59730405  3.6284153  -0.73960165 -3.6662588 ]\n",
            " [-1.74101892 -0.88647691 -0.62915687  0.03693856]\n",
            " [-0.54061462 -0.43755029  0.01816344  0.11646506]]\n",
            " \n",
            "[[-1.1654231  -2.63529648 -2.14334887  2.49949696]\n",
            " [-1.59730405  3.6284153  -0.73960165 -3.6662588 ]\n",
            " [-1.74101892 -0.88647691 -0.62915687  0.03693856]\n",
            " [-0.54061462 -0.43755029  0.01816344  0.11646506]]\n",
            " \n",
            "[[0. 0. 0. 0.]\n",
            " [0. 0. 0. 0.]\n",
            " [0. 0. 0. 0.]\n",
            " [0. 0. 0. 0.]]\n"
          ]
        }
      ]
    },
    {
      "cell_type": "markdown",
      "source": [
        "## The Matrix inverse"
      ],
      "metadata": {
        "id": "RMZQ4_Ladcat"
      }
    },
    {
      "cell_type": "code",
      "source": [
        "m = np.random.randn(4,4)\n",
        "minv = np.linalg.inv(m)\n",
        "\n",
        "minvm = m@minv\n",
        "\n",
        "print(m)\n",
        "print(' ')\n",
        "print(minv)\n",
        "print(' ')\n",
        "print(minvm)"
      ],
      "metadata": {
        "colab": {
          "base_uri": "https://localhost:8080/"
        },
        "id": "KscfB8Bzcf3V",
        "outputId": "a6ccc954-e202-42f2-eb9e-b559525b871a"
      },
      "execution_count": 88,
      "outputs": [
        {
          "output_type": "stream",
          "name": "stdout",
          "text": [
            "[[-0.30342226  0.28535372  0.3996658   0.14245118]\n",
            " [ 0.32711847 -0.0910861   1.2138819  -0.2648091 ]\n",
            " [-1.54050706  0.3976289   1.05380899  0.37149419]\n",
            " [-0.09209651  0.31242014 -0.52425732  0.10439979]]\n",
            " \n",
            "[[ 3.61571991 -0.7080798  -1.40909713 -1.71550274]\n",
            " [-0.24374991  1.5335813   0.15397839  3.67459226]\n",
            " [ 1.44248214  0.08095975 -0.20518147 -1.03276712]\n",
            " [11.16266015 -4.80738144 -2.73416993 -8.1172975 ]]\n",
            " \n",
            "[[ 1.00000000e+00 -1.27838758e-16  9.11885937e-17 -7.96787389e-17]\n",
            " [-6.73288618e-16  1.00000000e+00  1.71631243e-17  2.54465380e-17]\n",
            " [ 2.43343524e-16 -2.87982741e-17  1.00000000e+00  5.85103741e-16]\n",
            " [-2.24995650e-17  3.20993453e-17 -3.19879732e-17  1.00000000e+00]]\n"
          ]
        }
      ]
    },
    {
      "cell_type": "code",
      "source": [
        "fig, ax = plt.subplots(1,3, figsize=(6,5))\n",
        "ax[0].imshow(m)\n",
        "ax[0].set_title('m')\n",
        "\n",
        "ax[1].imshow(minv)\n",
        "ax[1].set_title('A$^{-1}$')\n",
        "\n",
        "ax[2].imshow(minvm)\n",
        "ax[2].set_title('A$^{-1}$A')\n",
        "\n",
        "plt.show()"
      ],
      "metadata": {
        "colab": {
          "base_uri": "https://localhost:8080/",
          "height": 166
        },
        "id": "X22Daz2rcf6P",
        "outputId": "6f86b4c6-ee1d-4150-a700-11b40cd28b29"
      },
      "execution_count": 94,
      "outputs": [
        {
          "output_type": "display_data",
          "data": {
            "text/plain": [
              "<Figure size 432x360 with 3 Axes>"
            ],
            "image/png": "[encoded data removed]"
          },
          "metadata": {
            "needs_background": "light"
          }
        }
      ]
    },
    {
      "cell_type": "code",
      "source": [
        "#https://www.udemy.com/course/test-the-pyla-waters/"
      ],
      "metadata": {
        "id": "-FK9AzI3fRw5"
      },
      "execution_count": null,
      "outputs": []
    },
    {
      "cell_type": "code",
      "source": [
        ""
      ],
      "metadata": {
        "id": "ca_0GYgmcf84"
      },
      "execution_count": null,
      "outputs": []
    }
  ]
}